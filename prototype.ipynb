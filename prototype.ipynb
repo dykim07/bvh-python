{
 "cells": [
  {
   "cell_type": "code",
   "execution_count": 18,
   "metadata": {},
   "outputs": [
    {
     "ename": "ModuleNotFoundError",
     "evalue": "No module named 'quarternion'",
     "output_type": "error",
     "traceback": [
      "\u001b[0;31m---------------------------------------------------------------------------\u001b[0m",
      "\u001b[0;31mModuleNotFoundError\u001b[0m                       Traceback (most recent call last)",
      "\u001b[0;32m<ipython-input-18-2e9993a52542>\u001b[0m in \u001b[0;36m<module>\u001b[0;34m()\u001b[0m\n\u001b[1;32m      1\u001b[0m \u001b[0;32mimport\u001b[0m \u001b[0mnumpy\u001b[0m \u001b[0;32mas\u001b[0m \u001b[0mnp\u001b[0m\u001b[0;34m\u001b[0m\u001b[0m\n\u001b[0;32m----> 2\u001b[0;31m \u001b[0;32mimport\u001b[0m \u001b[0mquarternion\u001b[0m\u001b[0;34m\u001b[0m\u001b[0m\n\u001b[0m\u001b[1;32m      3\u001b[0m \u001b[0;32mfrom\u001b[0m \u001b[0mbvh\u001b[0m \u001b[0;32mimport\u001b[0m \u001b[0mBvh\u001b[0m\u001b[0;34m,\u001b[0m \u001b[0mBvhNode\u001b[0m\u001b[0;34m\u001b[0m\u001b[0m\n",
      "\u001b[0;31mModuleNotFoundError\u001b[0m: No module named 'quarternion'"
     ]
    }
   ],
   "source": [
    "import numpy as np\n",
    "from bvh import Bvh, BvhNode"
   ]
  },
  {
   "cell_type": "code",
   "execution_count": 2,
   "metadata": {},
   "outputs": [],
   "source": [
    "f = open('tests/test_freebvh.bvh') \n",
    "mocap = Bvh(f.read())\n",
    "f.close()"
   ]
  },
  {
   "cell_type": "code",
   "execution_count": 10,
   "metadata": {},
   "outputs": [
    {
     "data": {
      "text/plain": [
       "['mixamorig:Hips',\n",
       " 'mixamorig:Spine',\n",
       " 'mixamorig:Spine1',\n",
       " 'mixamorig:Spine2',\n",
       " 'mixamorig:Neck',\n",
       " 'mixamorig:Head',\n",
       " 'mixamorig:HeadTop_End',\n",
       " 'mixamorig:LeftEye',\n",
       " 'mixamorig:RightEye',\n",
       " 'mixamorig:LeftShoulder',\n",
       " 'mixamorig:LeftArm',\n",
       " 'mixamorig:LeftForeArm',\n",
       " 'mixamorig:LeftHand',\n",
       " 'mixamorig:LeftHandMiddle1',\n",
       " 'mixamorig:LeftHandMiddle2',\n",
       " 'mixamorig:LeftHandMiddle3',\n",
       " 'mixamorig:LeftHandThumb1',\n",
       " 'mixamorig:LeftHandThumb2',\n",
       " 'mixamorig:LeftHandThumb3',\n",
       " 'mixamorig:LeftHandIndex1',\n",
       " 'mixamorig:LeftHandIndex2',\n",
       " 'mixamorig:LeftHandIndex3',\n",
       " 'mixamorig:LeftHandRing1',\n",
       " 'mixamorig:LeftHandRing2',\n",
       " 'mixamorig:LeftHandRing3',\n",
       " 'mixamorig:LeftHandPinky1',\n",
       " 'mixamorig:LeftHandPinky2',\n",
       " 'mixamorig:LeftHandPinky3',\n",
       " 'mixamorig:RightShoulder',\n",
       " 'mixamorig:RightArm',\n",
       " 'mixamorig:RightForeArm',\n",
       " 'mixamorig:RightHand',\n",
       " 'mixamorig:RightHandMiddle1',\n",
       " 'mixamorig:RightHandMiddle2',\n",
       " 'mixamorig:RightHandMiddle3',\n",
       " 'mixamorig:RightHandThumb1',\n",
       " 'mixamorig:RightHandThumb2',\n",
       " 'mixamorig:RightHandThumb3',\n",
       " 'mixamorig:RightHandIndex1',\n",
       " 'mixamorig:RightHandIndex2',\n",
       " 'mixamorig:RightHandIndex3',\n",
       " 'mixamorig:RightHandRing1',\n",
       " 'mixamorig:RightHandRing2',\n",
       " 'mixamorig:RightHandRing3',\n",
       " 'mixamorig:RightHandPinky1',\n",
       " 'mixamorig:RightHandPinky2',\n",
       " 'mixamorig:RightHandPinky3',\n",
       " 'mixamorig:RightUpLeg',\n",
       " 'mixamorig:RightLeg',\n",
       " 'mixamorig:RightFoot',\n",
       " 'mixamorig:RightToeBase',\n",
       " 'mixamorig:LeftUpLeg',\n",
       " 'mixamorig:LeftLeg',\n",
       " 'mixamorig:LeftFoot',\n",
       " 'mixamorig:LeftToeBase']"
      ]
     },
     "execution_count": 10,
     "metadata": {},
     "output_type": "execute_result"
    }
   ],
   "source": [
    "mocap.get_joints_names()"
   ]
  },
  {
   "cell_type": "code",
   "execution_count": 16,
   "metadata": {},
   "outputs": [
    {
     "data": {
      "text/plain": [
       "['Zrotation', 'Yrotation', 'Xrotation']"
      ]
     },
     "execution_count": 16,
     "metadata": {},
     "output_type": "execute_result"
    }
   ],
   "source": [
    "mocap.joint_channels(mocap.get_joints_names()[5])"
   ]
  },
  {
   "cell_type": "code",
   "execution_count": 17,
   "metadata": {},
   "outputs": [
    {
     "data": {
      "text/plain": [
       "[-0.9091, 3.9564, 0.5784]"
      ]
     },
     "execution_count": 17,
     "metadata": {},
     "output_type": "execute_result"
    }
   ],
   "source": [
    "mocap.frame_joint_channels(\n",
    "    0,\n",
    "    mocap.get_joints_names()[5],\n",
    "    mocap.joint_channels(mocap.get_joints_names()[5])\n",
    ")"
   ]
  },
  {
   "cell_type": "code",
   "execution_count": 22,
   "metadata": {},
   "outputs": [
    {
     "data": {
      "text/plain": [
       "30.000030000029998"
      ]
     },
     "execution_count": 22,
     "metadata": {},
     "output_type": "execute_result"
    }
   ],
   "source": [
    "1/mocap.frame_time"
   ]
  },
  {
   "cell_type": "code",
   "execution_count": null,
   "metadata": {},
   "outputs": [],
   "source": []
  }
 ],
 "metadata": {
  "kernelspec": {
   "display_name": "Python 3",
   "language": "python",
   "name": "python3"
  },
  "language_info": {
   "codemirror_mode": {
    "name": "ipython",
    "version": 3
   },
   "file_extension": ".py",
   "mimetype": "text/x-python",
   "name": "python",
   "nbconvert_exporter": "python",
   "pygments_lexer": "ipython3",
   "version": "3.6.2"
  }
 },
 "nbformat": 4,
 "nbformat_minor": 2
}
